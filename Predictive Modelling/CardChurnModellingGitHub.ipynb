{
  "nbformat": 4,
  "nbformat_minor": 0,
  "metadata": {
    "colab": {
      "name": "CardChurnModellingGitHub.ipynb",
      "provenance": [],
      "collapsed_sections": []
    },
    "kernelspec": {
      "name": "python3",
      "display_name": "Python 3"
    },
    "language_info": {
      "name": "python"
    }
  },
  "cells": [
    {
      "cell_type": "markdown",
      "source": [
        "# **Installing and Importing packages**"
      ],
      "metadata": {
        "id": "04NlwgFRhTvg"
      }
    },
    {
      "cell_type": "code",
      "source": [
        "!pip install scikit-plot\n",
        "!pip install imblearn"
      ],
      "metadata": {
        "colab": {
          "base_uri": "https://localhost:8080/"
        },
        "id": "6xAmBUdRAGcf",
        "outputId": "610b18d9-5acf-4fed-b4ee-efe66b0ccaa1"
      },
      "execution_count": 1,
      "outputs": [
        {
          "output_type": "stream",
          "name": "stdout",
          "text": [
            "Looking in indexes: https://pypi.org/simple, https://us-python.pkg.dev/colab-wheels/public/simple/\n",
            "Collecting scikit-plot\n",
            "  Downloading scikit_plot-0.3.7-py3-none-any.whl (33 kB)\n",
            "Requirement already satisfied: scipy>=0.9 in /usr/local/lib/python3.7/dist-packages (from scikit-plot) (1.4.1)\n",
            "Requirement already satisfied: joblib>=0.10 in /usr/local/lib/python3.7/dist-packages (from scikit-plot) (1.1.0)\n",
            "Requirement already satisfied: matplotlib>=1.4.0 in /usr/local/lib/python3.7/dist-packages (from scikit-plot) (3.2.2)\n",
            "Requirement already satisfied: scikit-learn>=0.18 in /usr/local/lib/python3.7/dist-packages (from scikit-plot) (1.0.2)\n",
            "Requirement already satisfied: cycler>=0.10 in /usr/local/lib/python3.7/dist-packages (from matplotlib>=1.4.0->scikit-plot) (0.11.0)\n",
            "Requirement already satisfied: kiwisolver>=1.0.1 in /usr/local/lib/python3.7/dist-packages (from matplotlib>=1.4.0->scikit-plot) (1.4.3)\n",
            "Requirement already satisfied: python-dateutil>=2.1 in /usr/local/lib/python3.7/dist-packages (from matplotlib>=1.4.0->scikit-plot) (2.8.2)\n",
            "Requirement already satisfied: pyparsing!=2.0.4,!=2.1.2,!=2.1.6,>=2.0.1 in /usr/local/lib/python3.7/dist-packages (from matplotlib>=1.4.0->scikit-plot) (3.0.9)\n",
            "Requirement already satisfied: numpy>=1.11 in /usr/local/lib/python3.7/dist-packages (from matplotlib>=1.4.0->scikit-plot) (1.21.6)\n",
            "Requirement already satisfied: typing-extensions in /usr/local/lib/python3.7/dist-packages (from kiwisolver>=1.0.1->matplotlib>=1.4.0->scikit-plot) (4.1.1)\n",
            "Requirement already satisfied: six>=1.5 in /usr/local/lib/python3.7/dist-packages (from python-dateutil>=2.1->matplotlib>=1.4.0->scikit-plot) (1.15.0)\n",
            "Requirement already satisfied: threadpoolctl>=2.0.0 in /usr/local/lib/python3.7/dist-packages (from scikit-learn>=0.18->scikit-plot) (3.1.0)\n",
            "Installing collected packages: scikit-plot\n",
            "Successfully installed scikit-plot-0.3.7\n",
            "Looking in indexes: https://pypi.org/simple, https://us-python.pkg.dev/colab-wheels/public/simple/\n",
            "Requirement already satisfied: imblearn in /usr/local/lib/python3.7/dist-packages (0.0)\n",
            "Requirement already satisfied: imbalanced-learn in /usr/local/lib/python3.7/dist-packages (from imblearn) (0.8.1)\n",
            "Requirement already satisfied: scipy>=0.19.1 in /usr/local/lib/python3.7/dist-packages (from imbalanced-learn->imblearn) (1.4.1)\n",
            "Requirement already satisfied: scikit-learn>=0.24 in /usr/local/lib/python3.7/dist-packages (from imbalanced-learn->imblearn) (1.0.2)\n",
            "Requirement already satisfied: joblib>=0.11 in /usr/local/lib/python3.7/dist-packages (from imbalanced-learn->imblearn) (1.1.0)\n",
            "Requirement already satisfied: numpy>=1.13.3 in /usr/local/lib/python3.7/dist-packages (from imbalanced-learn->imblearn) (1.21.6)\n",
            "Requirement already satisfied: threadpoolctl>=2.0.0 in /usr/local/lib/python3.7/dist-packages (from scikit-learn>=0.24->imbalanced-learn->imblearn) (3.1.0)\n"
          ]
        }
      ]
    },
    {
      "cell_type": "code",
      "execution_count": 2,
      "metadata": {
        "id": "C5OOB0ON-6XY"
      },
      "outputs": [],
      "source": [
        "import numpy as np\n",
        "import pandas as pd\n",
        "import matplotlib.pyplot as plt\n",
        "import seaborn as sns\n",
        "import scikitplot as skplt\n",
        "import time\n",
        "import warnings\n",
        "import io\n",
        "import copy as cp\n",
        "from numpy import mean\n",
        "from numpy import std\n",
        "from numpy import absolute\n",
        "from sklearn.preprocessing import LabelEncoder\n",
        "from sklearn.preprocessing import StandardScaler, MinMaxScaler\n",
        "from sklearn.decomposition import PCA\n",
        "from sklearn.model_selection import train_test_split, KFold, cross_val_score, GridSearchCV, StratifiedKFold\n",
        "from sklearn.linear_model import LogisticRegression\n",
        "from sklearn import metrics\n",
        "from sklearn.metrics import confusion_matrix, ConfusionMatrixDisplay, plot_confusion_matrix\n",
        "from sklearn.metrics import make_scorer, accuracy_score, precision_score, recall_score, f1_score\n",
        "from sklearn.ensemble import RandomForestClassifier, AdaBoostClassifier\n",
        "from sklearn.svm import SVC\n",
        "from sklearn.pipeline import Pipeline\n",
        "from sklearn.datasets import make_classification\n",
        "from imblearn.over_sampling import SMOTE\n",
        "from imblearn.pipeline import Pipeline, make_pipeline\n",
        "from xgboost.sklearn import XGBClassifier\n",
        "from xgboost import XGBRegressor\n",
        "from google.colab import files\n",
        "from typing import Tuple"
      ]
    },
    {
      "cell_type": "markdown",
      "source": [
        "## **Importing and Inspecting the Dataset**"
      ],
      "metadata": {
        "id": "rJIdNKDcFjw7"
      }
    },
    {
      "cell_type": "code",
      "source": [
        "#Uploading dataset from local drive\n",
        "uploaded = files.upload()"
      ],
      "metadata": {
        "colab": {
          "resources": {
            "http://localhost:8080/nbextensions/google.colab/files.js": {
              "data": "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",
              "ok": true,
              "headers": [
                [
                  "content-type",
                  "application/javascript"
                ]
              ],
              "status": 200,
              "status_text": ""
            }
          },
          "base_uri": "https://localhost:8080/",
          "height": 74
        },
        "id": "zP-GJ_RGFT0c",
        "outputId": "8a201407-9c60-4f2c-bff2-e50b9ead45d3"
      },
      "execution_count": 3,
      "outputs": [
        {
          "output_type": "display_data",
          "data": {
            "text/plain": [
              "<IPython.core.display.HTML object>"
            ],
            "text/html": [
              "\n",
              "     <input type=\"file\" id=\"files-c45e5067-1cf3-4fdd-a96a-3f681a6d57a7\" name=\"files[]\" multiple disabled\n",
              "        style=\"border:none\" />\n",
              "     <output id=\"result-c45e5067-1cf3-4fdd-a96a-3f681a6d57a7\">\n",
              "      Upload widget is only available when the cell has been executed in the\n",
              "      current browser session. Please rerun this cell to enable.\n",
              "      </output>\n",
              "      <script src=\"/nbextensions/google.colab/files.js\"></script> "
            ]
          },
          "metadata": {}
        },
        {
          "output_type": "stream",
          "name": "stdout",
          "text": [
            "Saving Dataset_BankChurners.csv to Dataset_BankChurners.csv\n"
          ]
        }
      ]
    },
    {
      "cell_type": "code",
      "source": [
        "#Reading the Dataset\n",
        "df = pd.read_csv(io.BytesIO(uploaded['Dataset_BankChurners.csv']))\n",
        "\n",
        "#Inspecting the Dataset\n",
        "df.head()"
      ],
      "metadata": {
        "colab": {
          "base_uri": "https://localhost:8080/",
          "height": 357
        },
        "id": "tFdj6aaXAbtl",
        "outputId": "2398aa3c-7ef3-4ecd-ae34-73e78a5fd6b9"
      },
      "execution_count": 4,
      "outputs": [
        {
          "output_type": "execute_result",
          "data": {
            "text/plain": [
              "      Attrition_Flag  Customer_Age Gender  Dependent_count Education_Level  \\\n",
              "0  Existing Customer            45      M                3     High School   \n",
              "1  Existing Customer            49      F                5        Graduate   \n",
              "2  Existing Customer            51      M                3        Graduate   \n",
              "3  Existing Customer            40      F                4     High School   \n",
              "4  Existing Customer            40      M                3      Uneducated   \n",
              "\n",
              "  Marital_Status Income_Category Card_Category  Months_on_book  \\\n",
              "0        Married     $60K - $80K          Blue              39   \n",
              "1         Single  Less than $40K          Blue              44   \n",
              "2        Married    $80K - $120K          Blue              36   \n",
              "3        Unknown  Less than $40K          Blue              34   \n",
              "4        Married     $60K - $80K          Blue              21   \n",
              "\n",
              "   Total_Relationship_Count  Months_Inactive_12_mon  Contacts_Count_12_mon  \\\n",
              "0                         5                       1                      3   \n",
              "1                         6                       1                      2   \n",
              "2                         4                       1                      0   \n",
              "3                         3                       4                      1   \n",
              "4                         5                       1                      0   \n",
              "\n",
              "   Credit_Limit  Total_Revolving_Bal  Avg_Open_To_Buy  Total_Amt_Chng_Q4_Q1  \\\n",
              "0       12691.0                  777          11914.0                 1.335   \n",
              "1        8256.0                  864           7392.0                 1.541   \n",
              "2        3418.0                    0           3418.0                 2.594   \n",
              "3        3313.0                 2517            796.0                 1.405   \n",
              "4        4716.0                    0           4716.0                 2.175   \n",
              "\n",
              "   Total_Trans_Amt  Total_Trans_Ct  Total_Ct_Chng_Q4_Q1  Avg_Utilization_Ratio  \n",
              "0             1144              42                1.625                  0.061  \n",
              "1             1291              33                3.714                  0.105  \n",
              "2             1887              20                2.333                  0.000  \n",
              "3             1171              20                2.333                  0.760  \n",
              "4              816              28                2.500                  0.000  "
            ],
            "text/html": [
              "\n",
              "  <div id=\"df-b0b62ba3-5fb7-4b2a-993a-ba5118325872\">\n",
              "    <div class=\"colab-df-container\">\n",
              "      <div>\n",
              "<style scoped>\n",
              "    .dataframe tbody tr th:only-of-type {\n",
              "        vertical-align: middle;\n",
              "    }\n",
              "\n",
              "    .dataframe tbody tr th {\n",
              "        vertical-align: top;\n",
              "    }\n",
              "\n",
              "    .dataframe thead th {\n",
              "        text-align: right;\n",
              "    }\n",
              "</style>\n",
              "<table border=\"1\" class=\"dataframe\">\n",
              "  <thead>\n",
              "    <tr style=\"text-align: right;\">\n",
              "      <th></th>\n",
              "      <th>Attrition_Flag</th>\n",
              "      <th>Customer_Age</th>\n",
              "      <th>Gender</th>\n",
              "      <th>Dependent_count</th>\n",
              "      <th>Education_Level</th>\n",
              "      <th>Marital_Status</th>\n",
              "      <th>Income_Category</th>\n",
              "      <th>Card_Category</th>\n",
              "      <th>Months_on_book</th>\n",
              "      <th>Total_Relationship_Count</th>\n",
              "      <th>Months_Inactive_12_mon</th>\n",
              "      <th>Contacts_Count_12_mon</th>\n",
              "      <th>Credit_Limit</th>\n",
              "      <th>Total_Revolving_Bal</th>\n",
              "      <th>Avg_Open_To_Buy</th>\n",
              "      <th>Total_Amt_Chng_Q4_Q1</th>\n",
              "      <th>Total_Trans_Amt</th>\n",
              "      <th>Total_Trans_Ct</th>\n",
              "      <th>Total_Ct_Chng_Q4_Q1</th>\n",
              "      <th>Avg_Utilization_Ratio</th>\n",
              "    </tr>\n",
              "  </thead>\n",
              "  <tbody>\n",
              "    <tr>\n",
              "      <th>0</th>\n",
              "      <td>Existing Customer</td>\n",
              "      <td>45</td>\n",
              "      <td>M</td>\n",
              "      <td>3</td>\n",
              "      <td>High School</td>\n",
              "      <td>Married</td>\n",
              "      <td>$60K - $80K</td>\n",
              "      <td>Blue</td>\n",
              "      <td>39</td>\n",
              "      <td>5</td>\n",
              "      <td>1</td>\n",
              "      <td>3</td>\n",
              "      <td>12691.0</td>\n",
              "      <td>777</td>\n",
              "      <td>11914.0</td>\n",
              "      <td>1.335</td>\n",
              "      <td>1144</td>\n",
              "      <td>42</td>\n",
              "      <td>1.625</td>\n",
              "      <td>0.061</td>\n",
              "    </tr>\n",
              "    <tr>\n",
              "      <th>1</th>\n",
              "      <td>Existing Customer</td>\n",
              "      <td>49</td>\n",
              "      <td>F</td>\n",
              "      <td>5</td>\n",
              "      <td>Graduate</td>\n",
              "      <td>Single</td>\n",
              "      <td>Less than $40K</td>\n",
              "      <td>Blue</td>\n",
              "      <td>44</td>\n",
              "      <td>6</td>\n",
              "      <td>1</td>\n",
              "      <td>2</td>\n",
              "      <td>8256.0</td>\n",
              "      <td>864</td>\n",
              "      <td>7392.0</td>\n",
              "      <td>1.541</td>\n",
              "      <td>1291</td>\n",
              "      <td>33</td>\n",
              "      <td>3.714</td>\n",
              "      <td>0.105</td>\n",
              "    </tr>\n",
              "    <tr>\n",
              "      <th>2</th>\n",
              "      <td>Existing Customer</td>\n",
              "      <td>51</td>\n",
              "      <td>M</td>\n",
              "      <td>3</td>\n",
              "      <td>Graduate</td>\n",
              "      <td>Married</td>\n",
              "      <td>$80K - $120K</td>\n",
              "      <td>Blue</td>\n",
              "      <td>36</td>\n",
              "      <td>4</td>\n",
              "      <td>1</td>\n",
              "      <td>0</td>\n",
              "      <td>3418.0</td>\n",
              "      <td>0</td>\n",
              "      <td>3418.0</td>\n",
              "      <td>2.594</td>\n",
              "      <td>1887</td>\n",
              "      <td>20</td>\n",
              "      <td>2.333</td>\n",
              "      <td>0.000</td>\n",
              "    </tr>\n",
              "    <tr>\n",
              "      <th>3</th>\n",
              "      <td>Existing Customer</td>\n",
              "      <td>40</td>\n",
              "      <td>F</td>\n",
              "      <td>4</td>\n",
              "      <td>High School</td>\n",
              "      <td>Unknown</td>\n",
              "      <td>Less than $40K</td>\n",
              "      <td>Blue</td>\n",
              "      <td>34</td>\n",
              "      <td>3</td>\n",
              "      <td>4</td>\n",
              "      <td>1</td>\n",
              "      <td>3313.0</td>\n",
              "      <td>2517</td>\n",
              "      <td>796.0</td>\n",
              "      <td>1.405</td>\n",
              "      <td>1171</td>\n",
              "      <td>20</td>\n",
              "      <td>2.333</td>\n",
              "      <td>0.760</td>\n",
              "    </tr>\n",
              "    <tr>\n",
              "      <th>4</th>\n",
              "      <td>Existing Customer</td>\n",
              "      <td>40</td>\n",
              "      <td>M</td>\n",
              "      <td>3</td>\n",
              "      <td>Uneducated</td>\n",
              "      <td>Married</td>\n",
              "      <td>$60K - $80K</td>\n",
              "      <td>Blue</td>\n",
              "      <td>21</td>\n",
              "      <td>5</td>\n",
              "      <td>1</td>\n",
              "      <td>0</td>\n",
              "      <td>4716.0</td>\n",
              "      <td>0</td>\n",
              "      <td>4716.0</td>\n",
              "      <td>2.175</td>\n",
              "      <td>816</td>\n",
              "      <td>28</td>\n",
              "      <td>2.500</td>\n",
              "      <td>0.000</td>\n",
              "    </tr>\n",
              "  </tbody>\n",
              "</table>\n",
              "</div>\n",
              "      <button class=\"colab-df-convert\" onclick=\"convertToInteractive('df-b0b62ba3-5fb7-4b2a-993a-ba5118325872')\"\n",
              "              title=\"Convert this dataframe to an interactive table.\"\n",
              "              style=\"display:none;\">\n",
              "        \n",
              "  <svg xmlns=\"http://www.w3.org/2000/svg\" height=\"24px\"viewBox=\"0 0 24 24\"\n",
              "       width=\"24px\">\n",
              "    <path d=\"M0 0h24v24H0V0z\" fill=\"none\"/>\n",
              "    <path d=\"M18.56 5.44l.94 2.06.94-2.06 2.06-.94-2.06-.94-.94-2.06-.94 2.06-2.06.94zm-11 1L8.5 8.5l.94-2.06 2.06-.94-2.06-.94L8.5 2.5l-.94 2.06-2.06.94zm10 10l.94 2.06.94-2.06 2.06-.94-2.06-.94-.94-2.06-.94 2.06-2.06.94z\"/><path d=\"M17.41 7.96l-1.37-1.37c-.4-.4-.92-.59-1.43-.59-.52 0-1.04.2-1.43.59L10.3 9.45l-7.72 7.72c-.78.78-.78 2.05 0 2.83L4 21.41c.39.39.9.59 1.41.59.51 0 1.02-.2 1.41-.59l7.78-7.78 2.81-2.81c.8-.78.8-2.07 0-2.86zM5.41 20L4 18.59l7.72-7.72 1.47 1.35L5.41 20z\"/>\n",
              "  </svg>\n",
              "      </button>\n",
              "      \n",
              "  <style>\n",
              "    .colab-df-container {\n",
              "      display:flex;\n",
              "      flex-wrap:wrap;\n",
              "      gap: 12px;\n",
              "    }\n",
              "\n",
              "    .colab-df-convert {\n",
              "      background-color: #E8F0FE;\n",
              "      border: none;\n",
              "      border-radius: 50%;\n",
              "      cursor: pointer;\n",
              "      display: none;\n",
              "      fill: #1967D2;\n",
              "      height: 32px;\n",
              "      padding: 0 0 0 0;\n",
              "      width: 32px;\n",
              "    }\n",
              "\n",
              "    .colab-df-convert:hover {\n",
              "      background-color: #E2EBFA;\n",
              "      box-shadow: 0px 1px 2px rgba(60, 64, 67, 0.3), 0px 1px 3px 1px rgba(60, 64, 67, 0.15);\n",
              "      fill: #174EA6;\n",
              "    }\n",
              "\n",
              "    [theme=dark] .colab-df-convert {\n",
              "      background-color: #3B4455;\n",
              "      fill: #D2E3FC;\n",
              "    }\n",
              "\n",
              "    [theme=dark] .colab-df-convert:hover {\n",
              "      background-color: #434B5C;\n",
              "      box-shadow: 0px 1px 3px 1px rgba(0, 0, 0, 0.15);\n",
              "      filter: drop-shadow(0px 1px 2px rgba(0, 0, 0, 0.3));\n",
              "      fill: #FFFFFF;\n",
              "    }\n",
              "  </style>\n",
              "\n",
              "      <script>\n",
              "        const buttonEl =\n",
              "          document.querySelector('#df-b0b62ba3-5fb7-4b2a-993a-ba5118325872 button.colab-df-convert');\n",
              "        buttonEl.style.display =\n",
              "          google.colab.kernel.accessAllowed ? 'block' : 'none';\n",
              "\n",
              "        async function convertToInteractive(key) {\n",
              "          const element = document.querySelector('#df-b0b62ba3-5fb7-4b2a-993a-ba5118325872');\n",
              "          const dataTable =\n",
              "            await google.colab.kernel.invokeFunction('convertToInteractive',\n",
              "                                                     [key], {});\n",
              "          if (!dataTable) return;\n",
              "\n",
              "          const docLinkHtml = 'Like what you see? Visit the ' +\n",
              "            '<a target=\"_blank\" href=https://colab.research.google.com/notebooks/data_table.ipynb>data table notebook</a>'\n",
              "            + ' to learn more about interactive tables.';\n",
              "          element.innerHTML = '';\n",
              "          dataTable['output_type'] = 'display_data';\n",
              "          await google.colab.output.renderOutput(dataTable, element);\n",
              "          const docLink = document.createElement('div');\n",
              "          docLink.innerHTML = docLinkHtml;\n",
              "          element.appendChild(docLink);\n",
              "        }\n",
              "      </script>\n",
              "    </div>\n",
              "  </div>\n",
              "  "
            ]
          },
          "metadata": {},
          "execution_count": 4
        }
      ]
    },
    {
      "cell_type": "code",
      "source": [
        "df.shape"
      ],
      "metadata": {
        "colab": {
          "base_uri": "https://localhost:8080/"
        },
        "id": "p-QnD46DPDhw",
        "outputId": "7735556b-90d6-4224-94b2-8832a4268911"
      },
      "execution_count": 5,
      "outputs": [
        {
          "output_type": "execute_result",
          "data": {
            "text/plain": [
              "(10127, 20)"
            ]
          },
          "metadata": {},
          "execution_count": 5
        }
      ]
    },
    {
      "cell_type": "code",
      "source": [
        "print(df.groupby(['Attrition_Flag']).Attrition_Flag.count())"
      ],
      "metadata": {
        "colab": {
          "base_uri": "https://localhost:8080/"
        },
        "id": "Gv4Uu5FZn9RC",
        "outputId": "80bfcd3a-e327-466e-a6db-578d486240e4"
      },
      "execution_count": 6,
      "outputs": [
        {
          "output_type": "stream",
          "name": "stdout",
          "text": [
            "Attrition_Flag\n",
            "Attrited Customer    1627\n",
            "Existing Customer    8500\n",
            "Name: Attrition_Flag, dtype: int64\n"
          ]
        }
      ]
    },
    {
      "cell_type": "markdown",
      "source": [
        "# **Data PreProcessing**"
      ],
      "metadata": {
        "id": "Kk_-ES5Si93J"
      }
    },
    {
      "cell_type": "code",
      "source": [
        "#Coding attrited customers as 1, and existing customers as 0\n",
        "df.Attrition_Flag = df.Attrition_Flag.replace({'Existing Customer':0, 'Attrited Customer':1})"
      ],
      "metadata": {
        "id": "00aX6BqRHA1C"
      },
      "execution_count": 7,
      "outputs": []
    },
    {
      "cell_type": "markdown",
      "source": [
        "Following attributes are Categorical Variables: Gender, Education Level, Marital Status, Income Category and Card Category. Each have various levels. Categorical varaibles need to be converted in a form that ML algorithms can do a better job in prediction.\n",
        "\n",
        "One-Hot Encoding creates new variables for each level of an existing categorical variable, and assigns a binary value of 0 or 1 for that observation. Example: For the Gender attribute with 2 category levels of “F” and “M”, One-Hot Encoding will produce 2 variables: Gender.F and Gender.M. For a male customer, the value for Gender.F variable will be 0, and Gender.M will be 1."
      ],
      "metadata": {
        "id": "1sH2ib2HNgX7"
      }
    },
    {
      "cell_type": "code",
      "source": [
        "#One-Hot Encoding\n",
        "df_new=pd.get_dummies(df, columns=['Gender', 'Education_Level', 'Marital_Status', 'Income_Category', 'Card_Category'],drop_first=False)\n",
        "df_new.columns"
      ],
      "metadata": {
        "colab": {
          "base_uri": "https://localhost:8080/"
        },
        "id": "j1Nj5Ks0NfSx",
        "outputId": "a38729ae-0f42-44f1-c557-2da9f9ba963e"
      },
      "execution_count": 8,
      "outputs": [
        {
          "output_type": "execute_result",
          "data": {
            "text/plain": [
              "Index(['Attrition_Flag', 'Customer_Age', 'Dependent_count', 'Months_on_book',\n",
              "       'Total_Relationship_Count', 'Months_Inactive_12_mon',\n",
              "       'Contacts_Count_12_mon', 'Credit_Limit', 'Total_Revolving_Bal',\n",
              "       'Avg_Open_To_Buy', 'Total_Amt_Chng_Q4_Q1', 'Total_Trans_Amt',\n",
              "       'Total_Trans_Ct', 'Total_Ct_Chng_Q4_Q1', 'Avg_Utilization_Ratio',\n",
              "       'Gender_F', 'Gender_M', 'Education_Level_College',\n",
              "       'Education_Level_Doctorate', 'Education_Level_Graduate',\n",
              "       'Education_Level_High School', 'Education_Level_Post-Graduate',\n",
              "       'Education_Level_Uneducated', 'Education_Level_Unknown',\n",
              "       'Marital_Status_Divorced', 'Marital_Status_Married',\n",
              "       'Marital_Status_Single', 'Marital_Status_Unknown',\n",
              "       'Income_Category_$120K +', 'Income_Category_$40K - $60K',\n",
              "       'Income_Category_$60K - $80K', 'Income_Category_$80K - $120K',\n",
              "       'Income_Category_Less than $40K', 'Income_Category_Unknown',\n",
              "       'Card_Category_Blue', 'Card_Category_Gold', 'Card_Category_Platinum',\n",
              "       'Card_Category_Silver'],\n",
              "      dtype='object')"
            ]
          },
          "metadata": {},
          "execution_count": 8
        }
      ]
    },
    {
      "cell_type": "code",
      "source": [
        "#Shape of the new dataset after One-Hot Encoding\n",
        "df_new.shape"
      ],
      "metadata": {
        "colab": {
          "base_uri": "https://localhost:8080/"
        },
        "id": "WHsA7qyDPvcV",
        "outputId": "8c84c50d-8ac3-4fd3-e124-095c13c76cd0"
      },
      "execution_count": 9,
      "outputs": [
        {
          "output_type": "execute_result",
          "data": {
            "text/plain": [
              "(10127, 38)"
            ]
          },
          "metadata": {},
          "execution_count": 9
        }
      ]
    },
    {
      "cell_type": "code",
      "source": [
        "#Inspecting the Dataset\n",
        "df_new.head()"
      ],
      "metadata": {
        "colab": {
          "base_uri": "https://localhost:8080/",
          "height": 317
        },
        "id": "ORjnqgHRQuwZ",
        "outputId": "0f3a4399-8f66-43ce-ea57-b66b9a377ea2"
      },
      "execution_count": 10,
      "outputs": [
        {
          "output_type": "execute_result",
          "data": {
            "text/plain": [
              "   Attrition_Flag  Customer_Age  Dependent_count  Months_on_book  \\\n",
              "0               0            45                3              39   \n",
              "1               0            49                5              44   \n",
              "2               0            51                3              36   \n",
              "3               0            40                4              34   \n",
              "4               0            40                3              21   \n",
              "\n",
              "   Total_Relationship_Count  Months_Inactive_12_mon  Contacts_Count_12_mon  \\\n",
              "0                         5                       1                      3   \n",
              "1                         6                       1                      2   \n",
              "2                         4                       1                      0   \n",
              "3                         3                       4                      1   \n",
              "4                         5                       1                      0   \n",
              "\n",
              "   Credit_Limit  Total_Revolving_Bal  Avg_Open_To_Buy  ...  \\\n",
              "0       12691.0                  777          11914.0  ...   \n",
              "1        8256.0                  864           7392.0  ...   \n",
              "2        3418.0                    0           3418.0  ...   \n",
              "3        3313.0                 2517            796.0  ...   \n",
              "4        4716.0                    0           4716.0  ...   \n",
              "\n",
              "   Income_Category_$120K +  Income_Category_$40K - $60K  \\\n",
              "0                        0                            0   \n",
              "1                        0                            0   \n",
              "2                        0                            0   \n",
              "3                        0                            0   \n",
              "4                        0                            0   \n",
              "\n",
              "   Income_Category_$60K - $80K  Income_Category_$80K - $120K  \\\n",
              "0                            1                             0   \n",
              "1                            0                             0   \n",
              "2                            0                             1   \n",
              "3                            0                             0   \n",
              "4                            1                             0   \n",
              "\n",
              "   Income_Category_Less than $40K  Income_Category_Unknown  \\\n",
              "0                               0                        0   \n",
              "1                               1                        0   \n",
              "2                               0                        0   \n",
              "3                               1                        0   \n",
              "4                               0                        0   \n",
              "\n",
              "   Card_Category_Blue  Card_Category_Gold  Card_Category_Platinum  \\\n",
              "0                   1                   0                       0   \n",
              "1                   1                   0                       0   \n",
              "2                   1                   0                       0   \n",
              "3                   1                   0                       0   \n",
              "4                   1                   0                       0   \n",
              "\n",
              "   Card_Category_Silver  \n",
              "0                     0  \n",
              "1                     0  \n",
              "2                     0  \n",
              "3                     0  \n",
              "4                     0  \n",
              "\n",
              "[5 rows x 38 columns]"
            ],
            "text/html": [
              "\n",
              "  <div id=\"df-c5c3cad4-e5f3-4779-b0c5-c4c4a7e87416\">\n",
              "    <div class=\"colab-df-container\">\n",
              "      <div>\n",
              "<style scoped>\n",
              "    .dataframe tbody tr th:only-of-type {\n",
              "        vertical-align: middle;\n",
              "    }\n",
              "\n",
              "    .dataframe tbody tr th {\n",
              "        vertical-align: top;\n",
              "    }\n",
              "\n",
              "    .dataframe thead th {\n",
              "        text-align: right;\n",
              "    }\n",
              "</style>\n",
              "<table border=\"1\" class=\"dataframe\">\n",
              "  <thead>\n",
              "    <tr style=\"text-align: right;\">\n",
              "      <th></th>\n",
              "      <th>Attrition_Flag</th>\n",
              "      <th>Customer_Age</th>\n",
              "      <th>Dependent_count</th>\n",
              "      <th>Months_on_book</th>\n",
              "      <th>Total_Relationship_Count</th>\n",
              "      <th>Months_Inactive_12_mon</th>\n",
              "      <th>Contacts_Count_12_mon</th>\n",
              "      <th>Credit_Limit</th>\n",
              "      <th>Total_Revolving_Bal</th>\n",
              "      <th>Avg_Open_To_Buy</th>\n",
              "      <th>...</th>\n",
              "      <th>Income_Category_$120K +</th>\n",
              "      <th>Income_Category_$40K - $60K</th>\n",
              "      <th>Income_Category_$60K - $80K</th>\n",
              "      <th>Income_Category_$80K - $120K</th>\n",
              "      <th>Income_Category_Less than $40K</th>\n",
              "      <th>Income_Category_Unknown</th>\n",
              "      <th>Card_Category_Blue</th>\n",
              "      <th>Card_Category_Gold</th>\n",
              "      <th>Card_Category_Platinum</th>\n",
              "      <th>Card_Category_Silver</th>\n",
              "    </tr>\n",
              "  </thead>\n",
              "  <tbody>\n",
              "    <tr>\n",
              "      <th>0</th>\n",
              "      <td>0</td>\n",
              "      <td>45</td>\n",
              "      <td>3</td>\n",
              "      <td>39</td>\n",
              "      <td>5</td>\n",
              "      <td>1</td>\n",
              "      <td>3</td>\n",
              "      <td>12691.0</td>\n",
              "      <td>777</td>\n",
              "      <td>11914.0</td>\n",
              "      <td>...</td>\n",
              "      <td>0</td>\n",
              "      <td>0</td>\n",
              "      <td>1</td>\n",
              "      <td>0</td>\n",
              "      <td>0</td>\n",
              "      <td>0</td>\n",
              "      <td>1</td>\n",
              "      <td>0</td>\n",
              "      <td>0</td>\n",
              "      <td>0</td>\n",
              "    </tr>\n",
              "    <tr>\n",
              "      <th>1</th>\n",
              "      <td>0</td>\n",
              "      <td>49</td>\n",
              "      <td>5</td>\n",
              "      <td>44</td>\n",
              "      <td>6</td>\n",
              "      <td>1</td>\n",
              "      <td>2</td>\n",
              "      <td>8256.0</td>\n",
              "      <td>864</td>\n",
              "      <td>7392.0</td>\n",
              "      <td>...</td>\n",
              "      <td>0</td>\n",
              "      <td>0</td>\n",
              "      <td>0</td>\n",
              "      <td>0</td>\n",
              "      <td>1</td>\n",
              "      <td>0</td>\n",
              "      <td>1</td>\n",
              "      <td>0</td>\n",
              "      <td>0</td>\n",
              "      <td>0</td>\n",
              "    </tr>\n",
              "    <tr>\n",
              "      <th>2</th>\n",
              "      <td>0</td>\n",
              "      <td>51</td>\n",
              "      <td>3</td>\n",
              "      <td>36</td>\n",
              "      <td>4</td>\n",
              "      <td>1</td>\n",
              "      <td>0</td>\n",
              "      <td>3418.0</td>\n",
              "      <td>0</td>\n",
              "      <td>3418.0</td>\n",
              "      <td>...</td>\n",
              "      <td>0</td>\n",
              "      <td>0</td>\n",
              "      <td>0</td>\n",
              "      <td>1</td>\n",
              "      <td>0</td>\n",
              "      <td>0</td>\n",
              "      <td>1</td>\n",
              "      <td>0</td>\n",
              "      <td>0</td>\n",
              "      <td>0</td>\n",
              "    </tr>\n",
              "    <tr>\n",
              "      <th>3</th>\n",
              "      <td>0</td>\n",
              "      <td>40</td>\n",
              "      <td>4</td>\n",
              "      <td>34</td>\n",
              "      <td>3</td>\n",
              "      <td>4</td>\n",
              "      <td>1</td>\n",
              "      <td>3313.0</td>\n",
              "      <td>2517</td>\n",
              "      <td>796.0</td>\n",
              "      <td>...</td>\n",
              "      <td>0</td>\n",
              "      <td>0</td>\n",
              "      <td>0</td>\n",
              "      <td>0</td>\n",
              "      <td>1</td>\n",
              "      <td>0</td>\n",
              "      <td>1</td>\n",
              "      <td>0</td>\n",
              "      <td>0</td>\n",
              "      <td>0</td>\n",
              "    </tr>\n",
              "    <tr>\n",
              "      <th>4</th>\n",
              "      <td>0</td>\n",
              "      <td>40</td>\n",
              "      <td>3</td>\n",
              "      <td>21</td>\n",
              "      <td>5</td>\n",
              "      <td>1</td>\n",
              "      <td>0</td>\n",
              "      <td>4716.0</td>\n",
              "      <td>0</td>\n",
              "      <td>4716.0</td>\n",
              "      <td>...</td>\n",
              "      <td>0</td>\n",
              "      <td>0</td>\n",
              "      <td>1</td>\n",
              "      <td>0</td>\n",
              "      <td>0</td>\n",
              "      <td>0</td>\n",
              "      <td>1</td>\n",
              "      <td>0</td>\n",
              "      <td>0</td>\n",
              "      <td>0</td>\n",
              "    </tr>\n",
              "  </tbody>\n",
              "</table>\n",
              "<p>5 rows × 38 columns</p>\n",
              "</div>\n",
              "      <button class=\"colab-df-convert\" onclick=\"convertToInteractive('df-c5c3cad4-e5f3-4779-b0c5-c4c4a7e87416')\"\n",
              "              title=\"Convert this dataframe to an interactive table.\"\n",
              "              style=\"display:none;\">\n",
              "        \n",
              "  <svg xmlns=\"http://www.w3.org/2000/svg\" height=\"24px\"viewBox=\"0 0 24 24\"\n",
              "       width=\"24px\">\n",
              "    <path d=\"M0 0h24v24H0V0z\" fill=\"none\"/>\n",
              "    <path d=\"M18.56 5.44l.94 2.06.94-2.06 2.06-.94-2.06-.94-.94-2.06-.94 2.06-2.06.94zm-11 1L8.5 8.5l.94-2.06 2.06-.94-2.06-.94L8.5 2.5l-.94 2.06-2.06.94zm10 10l.94 2.06.94-2.06 2.06-.94-2.06-.94-.94-2.06-.94 2.06-2.06.94z\"/><path d=\"M17.41 7.96l-1.37-1.37c-.4-.4-.92-.59-1.43-.59-.52 0-1.04.2-1.43.59L10.3 9.45l-7.72 7.72c-.78.78-.78 2.05 0 2.83L4 21.41c.39.39.9.59 1.41.59.51 0 1.02-.2 1.41-.59l7.78-7.78 2.81-2.81c.8-.78.8-2.07 0-2.86zM5.41 20L4 18.59l7.72-7.72 1.47 1.35L5.41 20z\"/>\n",
              "  </svg>\n",
              "      </button>\n",
              "      \n",
              "  <style>\n",
              "    .colab-df-container {\n",
              "      display:flex;\n",
              "      flex-wrap:wrap;\n",
              "      gap: 12px;\n",
              "    }\n",
              "\n",
              "    .colab-df-convert {\n",
              "      background-color: #E8F0FE;\n",
              "      border: none;\n",
              "      border-radius: 50%;\n",
              "      cursor: pointer;\n",
              "      display: none;\n",
              "      fill: #1967D2;\n",
              "      height: 32px;\n",
              "      padding: 0 0 0 0;\n",
              "      width: 32px;\n",
              "    }\n",
              "\n",
              "    .colab-df-convert:hover {\n",
              "      background-color: #E2EBFA;\n",
              "      box-shadow: 0px 1px 2px rgba(60, 64, 67, 0.3), 0px 1px 3px 1px rgba(60, 64, 67, 0.15);\n",
              "      fill: #174EA6;\n",
              "    }\n",
              "\n",
              "    [theme=dark] .colab-df-convert {\n",
              "      background-color: #3B4455;\n",
              "      fill: #D2E3FC;\n",
              "    }\n",
              "\n",
              "    [theme=dark] .colab-df-convert:hover {\n",
              "      background-color: #434B5C;\n",
              "      box-shadow: 0px 1px 3px 1px rgba(0, 0, 0, 0.15);\n",
              "      filter: drop-shadow(0px 1px 2px rgba(0, 0, 0, 0.3));\n",
              "      fill: #FFFFFF;\n",
              "    }\n",
              "  </style>\n",
              "\n",
              "      <script>\n",
              "        const buttonEl =\n",
              "          document.querySelector('#df-c5c3cad4-e5f3-4779-b0c5-c4c4a7e87416 button.colab-df-convert');\n",
              "        buttonEl.style.display =\n",
              "          google.colab.kernel.accessAllowed ? 'block' : 'none';\n",
              "\n",
              "        async function convertToInteractive(key) {\n",
              "          const element = document.querySelector('#df-c5c3cad4-e5f3-4779-b0c5-c4c4a7e87416');\n",
              "          const dataTable =\n",
              "            await google.colab.kernel.invokeFunction('convertToInteractive',\n",
              "                                                     [key], {});\n",
              "          if (!dataTable) return;\n",
              "\n",
              "          const docLinkHtml = 'Like what you see? Visit the ' +\n",
              "            '<a target=\"_blank\" href=https://colab.research.google.com/notebooks/data_table.ipynb>data table notebook</a>'\n",
              "            + ' to learn more about interactive tables.';\n",
              "          element.innerHTML = '';\n",
              "          dataTable['output_type'] = 'display_data';\n",
              "          await google.colab.output.renderOutput(dataTable, element);\n",
              "          const docLink = document.createElement('div');\n",
              "          docLink.innerHTML = docLinkHtml;\n",
              "          element.appendChild(docLink);\n",
              "        }\n",
              "      </script>\n",
              "    </div>\n",
              "  </div>\n",
              "  "
            ]
          },
          "metadata": {},
          "execution_count": 10
        }
      ]
    },
    {
      "cell_type": "markdown",
      "source": [
        "## Train/Test split\n",
        "Splitting the dataset in training and testing set in 70:30 ratio"
      ],
      "metadata": {
        "id": "6LzLG9XqGmYd"
      }
    },
    {
      "cell_type": "code",
      "source": [
        "#Make independent/dependent variables\n",
        "X = df_new.drop(['Attrition_Flag'],axis=1)\n",
        "y = df_new['Attrition_Flag']\n",
        "\n",
        "#Train/test data in ration 70:30\n",
        "X_train, X_test, y_train, y_test = train_test_split(X, y, test_size = 0.3, random_state = 11)\n",
        "\n",
        "print(f\"Length of test data after 70:30 split: {len(y_test)}\\n\")\n",
        "print(f\"Length of training data after 70:30 split: {len(y_train)}\")\n",
        "print(f\"\\tCount of attrited customers in training data : {sum(y_train==1)}\")\n",
        "print(f\"\\tCount of existing customers in training data: {sum(y_train==0)} \\n\")"
      ],
      "metadata": {
        "colab": {
          "base_uri": "https://localhost:8080/"
        },
        "id": "ssl1CB_nGxSp",
        "outputId": "0b4e30a7-435c-46f9-b63f-74e4af93af45"
      },
      "execution_count": 11,
      "outputs": [
        {
          "output_type": "stream",
          "name": "stdout",
          "text": [
            "Length of test data after 70:30 split: 3039\n",
            "\n",
            "Length of training data after 70:30 split: 7088\n",
            "\tCount of attrited customers in training data : 1112\n",
            "\tCount of existing customers in training data: 5976 \n",
            "\n"
          ]
        }
      ]
    },
    {
      "cell_type": "markdown",
      "source": [
        "# **Modelling**"
      ],
      "metadata": {
        "id": "NqBiEQ1mkzaz"
      }
    },
    {
      "cell_type": "markdown",
      "source": [
        "## **Logistic Regression model**\n",
        "Logistic Regression is a popoular algorithm for binary classification problems, although Logistic Regression can be used for multinomial classification as well.\n",
        "\n",
        "We will be evaluating the execution time as well."
      ],
      "metadata": {
        "id": "DKR6OselLrVO"
      }
    },
    {
      "cell_type": "code",
      "source": [
        "#Mark the Start time\n",
        "start = time.time()\n",
        "\n",
        "#Building and training the Logistic Regression  model\n",
        "LogReg_Model = LogisticRegression(solver = \"lbfgs\", penalty = \"l2\", max_iter = 9999)\n",
        "LogReg_Model.fit(X_train, y_train.values.ravel())\n",
        "\n",
        "#Note the end time\n",
        "end = time.time()\n",
        "\n",
        "print(\"The time (in seconds) for generating the Logistic Regression model is:\", end-start)"
      ],
      "metadata": {
        "colab": {
          "base_uri": "https://localhost:8080/"
        },
        "id": "16BujOpvLx-x",
        "outputId": "cbaef984-6fe2-48b4-c8ab-7b56989fa0f6"
      },
      "execution_count": 12,
      "outputs": [
        {
          "output_type": "stream",
          "name": "stdout",
          "text": [
            "The time (in seconds) for generating the Logistic Regression model is: 0.25770139694213867\n"
          ]
        }
      ]
    },
    {
      "cell_type": "markdown",
      "source": [
        "### Logistic Regression - Predicting the dependent attribute of the test set"
      ],
      "metadata": {
        "id": "dPVm_w6umaqV"
      }
    },
    {
      "cell_type": "code",
      "source": [
        "Y_Pred_LogReg = LogReg_Model.predict(X_test)"
      ],
      "metadata": {
        "id": "P8yAGMNlMCR8"
      },
      "execution_count": 13,
      "outputs": []
    },
    {
      "cell_type": "markdown",
      "source": [
        "### Logistic Regression - Generating the Confusion Matrix"
      ],
      "metadata": {
        "id": "ybDFnpIRMpF7"
      }
    },
    {
      "cell_type": "code",
      "source": [
        "Conf_Mat_Log_Reg = confusion_matrix(y_test, Y_Pred_LogReg)\n",
        "\n",
        "plt.figure(figsize=(8, 6))\n",
        "ax = sns.heatmap(Conf_Mat_Log_Reg, annot=True, fmt='d', cmap='Blues')\n",
        "ax.set_title(\"Confusion Matrix - Logistic Regression\\n\\n\");\n",
        "ax.set_xlabel(\"\\nPredicted\")\n",
        "ax.set_ylabel(\"Actual\");\n",
        "\n",
        "ax.xaxis.set_ticklabels([\"Existing\",\"Attrited\"])\n",
        "ax.yaxis.set_ticklabels([\"Existing\",\"Attrited\"])\n",
        "\n",
        "## Display the visualization of the Confusion Matrix.\n",
        "plt.show()"
      ],
      "metadata": {
        "colab": {
          "base_uri": "https://localhost:8080/",
          "height": 446
        },
        "id": "K-ZYvlYTMuH7",
        "outputId": "27ed3859-c7ba-4e19-e1f1-ce54a51de04c"
      },
      "execution_count": 14,
      "outputs": [
        {
          "output_type": "display_data",
          "data": {
            "text/plain": [
              "<Figure size 576x432 with 2 Axes>"
            ],
            "image/png": "[encoded data removed]"
          },
          "metadata": {
            "needs_background": "light"
          }
        }
      ]
    },
    {
      "cell_type": "markdown",
      "source": [
        "### Logistic Regression - Evaluation Metrics"
      ],
      "metadata": {
        "id": "CVT_Y_uENQZi"
      }
    },
    {
      "cell_type": "code",
      "source": [
        "def print_scores(y_test, y_pred):\n",
        "  #Function to print the evaluation metrics\n",
        "    print(\"The Accuracy is:\", round(metrics.accuracy_score(y_test, y_pred),2))    #Accuracy Score: TP + TN / TP + TN + FP + FN\n",
        "    print(\"The Recall Score is:\", round(metrics.recall_score(y_test, y_pred),2))    #Recall Score:  TP/ TP + FN    \n",
        "    print(\"The Precision Score is:\", round(metrics.precision_score(y_test, y_pred),2))    #Precision Score:  TP/ TP + FP\n",
        "    print(\"The F1 Score is:\", round(metrics.f1_score(y_test, y_pred),2)) #F1 Score/ A combination of Recall Score and Precision Score\n",
        "print_scores(y_test, Y_Pred_LogReg)"
      ],
      "metadata": {
        "colab": {
          "base_uri": "https://localhost:8080/"
        },
        "id": "M4jLc8efNRaY",
        "outputId": "06f76be3-2c0f-435a-d22a-b3d3103efb60"
      },
      "execution_count": 15,
      "outputs": [
        {
          "output_type": "stream",
          "name": "stdout",
          "text": [
            "The Accuracy is: 0.89\n",
            "The Recall Score is: 0.49\n",
            "The Precision Score is: 0.78\n",
            "The F1 Score is: 0.6\n"
          ]
        }
      ]
    },
    {
      "cell_type": "markdown",
      "source": [
        "### k-fold Cross-Validation\n",
        "Since, we will be comparing different ML algorithms, it is better to use k-fold Cross-Validation to evaluate the model performance.\n",
        "Cross-Validation is a resampling procedure on a limited data sample. It is used in machine learning to estimate the skill of a machine learning model in making predictions on data not used during the training of the model.\n",
        "\n",
        "'k' refers to the number of groups that a given data sample is to be split into.\n",
        "\n"
      ],
      "metadata": {
        "id": "OGUylys1oino"
      }
    },
    {
      "cell_type": "markdown",
      "source": [
        "### Logistic Regression with 10-fold Cross-Validation\n",
        "The average scores of Recall, Accuracy, Precision, F1 and ROC will be used to evaluate the different ML models"
      ],
      "metadata": {
        "id": "6tRx5XMtSc1r"
      }
    },
    {
      "cell_type": "code",
      "source": [
        "# Logistic Regression model using 10-fold Cross-Validation\n",
        "\n",
        "# preparing the cross-validation procedure\n",
        "cv = KFold(n_splits=10, random_state=1, shuffle=True)\n",
        "# creating the model\n",
        "model_one = LogisticRegression()\n",
        "# evaluating the model\n",
        "recall_scores_LogReg = cross_val_score(model_one, X, y, scoring='recall', cv=cv, n_jobs=-1)\n",
        "accuracy_scores_LogReg = cross_val_score(model_one, X, y, scoring='accuracy', cv=cv, n_jobs=-1)\n",
        "precision_scores_LogReg = cross_val_score(model_one, X, y, scoring='precision', cv=cv, n_jobs=-1)\n",
        "f1_scores_LogReg = cross_val_score(model_one, X, y, scoring='f1', cv=cv, n_jobs=-1)\n",
        "roc_auc_scores_LogReg = cross_val_score(model_one, X, y, scoring='roc_auc', cv=cv, n_jobs=-1)\n",
        "# reporting the performance\n",
        "print('Logistic Regression - Average Recall: %.2f ' % (mean(recall_scores_LogReg)))\n",
        "print('Logistic Regression - Average Accuracy: %.2f ' % (mean(accuracy_scores_LogReg)))\n",
        "print('Logistic Regression - Average Precision: %.2f ' % (mean(precision_scores_LogReg)))\n",
        "print('Logistic Regression - Average F1: %.2f ' % (mean(f1_scores_LogReg)))\n",
        "print('Logistic Regression - Average ROC AUC: %.2f ' % (mean(roc_auc_scores_LogReg)))"
      ],
      "metadata": {
        "colab": {
          "base_uri": "https://localhost:8080/"
        },
        "id": "R4mjQv-3So_w",
        "outputId": "d17f5b23-9eb2-43ca-be2f-5f28d84488a4"
      },
      "execution_count": 16,
      "outputs": [
        {
          "output_type": "stream",
          "name": "stdout",
          "text": [
            "Logistic Regression - Average Recall: 0.42 \n",
            "Logistic Regression - Average Accuracy: 0.87 \n",
            "Logistic Regression - Average Precision: 0.68 \n",
            "Logistic Regression - Average F1: 0.52 \n",
            "Logistic Regression - Average ROC AUC: 0.88 \n"
          ]
        }
      ]
    },
    {
      "cell_type": "markdown",
      "source": [
        "## **Balancing the dataset with SMOTE**\n",
        "The dataset is imbalanced with only 1627 'Attritited' customers out of 10127 total customers, representing 16% churn. With this imbalance, the learning models may create bias in prediction. Hence we are oversampling the minotority class \"Attrited\" customers to create 50% attrited and 50% existing customers.\n",
        "We will be using SMOTE for over-sampling technique.\n",
        "\n",
        "SMOTE is an oversampling technique where the synthetic samples are generated for the minority class. This algorithm helps to overcome the overfitting problem posed by random oversampling.\n"
      ],
      "metadata": {
        "id": "mLPv4ZKNa9hm"
      }
    },
    {
      "cell_type": "markdown",
      "source": [
        "### Train/test split and Generating oversampled training data to balance the classes 50:50"
      ],
      "metadata": {
        "id": "0ExFhHYFWtgp"
      }
    },
    {
      "cell_type": "code",
      "source": [
        "#We have already made independent/dependent variables\n",
        "#X = df_new.drop(['Attrition_Flag'],axis=1)\n",
        "#y = df_new['Attrition_Flag']"
      ],
      "metadata": {
        "id": "K0i2l--JdSBN"
      },
      "execution_count": 17,
      "outputs": []
    },
    {
      "cell_type": "markdown",
      "source": [
        "Only the train dataset will be oversampled using SMOTE. Test set will be untouched."
      ],
      "metadata": {
        "id": "C1qWi1qA16p8"
      }
    },
    {
      "cell_type": "code",
      "source": [
        "#Make train/test data\n",
        "X_train_smote, X_test_smote, y_train_smote, y_test_smote = train_test_split(X, y, test_size = 0.3,\n",
        "                                                                            random_state = 11)\n",
        "#Defining SMOTE\n",
        "sampler = SMOTE(k_neighbors = 5, random_state = 11)\n",
        "\n",
        "#Oversampling the train dataset using SMOTE. Test set will be untouched\n",
        "X_sampler, y_sampler = sampler.fit_resample(X_train_smote, y_train_smote)\n",
        "\n",
        "print(\"Length of test set, before as well as after SMOTE oversampling, is:\", len(X_test_smote))\n",
        "\n",
        "print(\"\\nLength of train set, before SMOTE oversampling, is:\", len(X_train_smote))\n",
        "print(\"Length of train set, after SMOTE oversampling, is:\", len(X_sampler))\n",
        "\n",
        "print(\"\\tCount of Attrited customers in oversampled data:\",len(y_sampler[y_sampler==1]))\n",
        "print(\"\\tCount of Existing customers in oversampled data:\",len(y_sampler[y_sampler==0]))\n",
        "\n",
        "print(\"\\tProportion of Attrited customers in oversampled data is:\",len(y_sampler[y_sampler==1])/len(X_sampler))\n",
        "print(\"\\tProportion of Existing customers in oversampled data is:\",len(y_sampler[y_sampler==0])/len(X_sampler))"
      ],
      "metadata": {
        "id": "XvM3CY4JZ-UJ",
        "colab": {
          "base_uri": "https://localhost:8080/"
        },
        "outputId": "afebda3c-d548-42a4-d616-298ef8f16a83"
      },
      "execution_count": 18,
      "outputs": [
        {
          "output_type": "stream",
          "name": "stdout",
          "text": [
            "Length of test set, before as well as after SMOTE oversampling, is: 3039\n",
            "\n",
            "Length of train set, before SMOTE oversampling, is: 7088\n",
            "Length of train set, after SMOTE oversampling, is: 11952\n",
            "\tCount of Attrited customers in oversampled data: 5976\n",
            "\tCount of Existing customers in oversampled data: 5976\n",
            "\tProportion of Attrited customers in oversampled data is: 0.5\n",
            "\tProportion of Existing customers in oversampled data is: 0.5\n"
          ]
        }
      ]
    },
    {
      "cell_type": "markdown",
      "source": [
        "Predictive Analysis via Logistic Regression will be done on the balanced dataset."
      ],
      "metadata": {
        "id": "zZkZSvbwt4F1"
      }
    },
    {
      "cell_type": "markdown",
      "source": [
        "## **Logistic Regression model after SMOTE**"
      ],
      "metadata": {
        "id": "-WoaEoAtfwo7"
      }
    },
    {
      "cell_type": "markdown",
      "source": [
        "We will be evaluating the execution time as well."
      ],
      "metadata": {
        "id": "b1VWFCiT4ejf"
      }
    },
    {
      "cell_type": "code",
      "source": [
        "#Mark the Start time\n",
        "start = time.time()\n",
        "\n",
        "#Building and training the Logistic Regression  model after SMOTE\n",
        "Reg_Model = LogisticRegression(solver = \"lbfgs\", penalty = \"l2\", max_iter = 9999)\n",
        "Reg_Model.fit(X_sampler, y_sampler.values.ravel())\n",
        "\n",
        "#Note the end time\n",
        "end = time.time()\n",
        "\n",
        "print(\"The time (in seconds) for generating the Logistic Regression model is:\", end-start)"
      ],
      "metadata": {
        "colab": {
          "base_uri": "https://localhost:8080/"
        },
        "id": "EyB1bllzfvWx",
        "outputId": "9e58bbc3-dcdd-44dc-f3ed-b1267c250d4c"
      },
      "execution_count": 19,
      "outputs": [
        {
          "output_type": "stream",
          "name": "stdout",
          "text": [
            "The time (in seconds) for generating the Logistic Regression model is: 10.677715301513672\n"
          ]
        }
      ]
    },
    {
      "cell_type": "markdown",
      "source": [
        "### Logistic Regression after SMOTE - Predicting the dependent attribute of the test set"
      ],
      "metadata": {
        "id": "yMkag8GhyBjS"
      }
    },
    {
      "cell_type": "code",
      "source": [
        "Y_Pred = Reg_Model.predict(X_test_smote)"
      ],
      "metadata": {
        "id": "Ii8GrEbqh-DX"
      },
      "execution_count": 20,
      "outputs": []
    },
    {
      "cell_type": "markdown",
      "source": [
        "### Logistic Regression after SMOTE - Generating the Confusion Matrix"
      ],
      "metadata": {
        "id": "eXgP48QlzCSk"
      }
    },
    {
      "cell_type": "code",
      "source": [
        "Conf_Mat_Log_Reg = confusion_matrix(y_test_smote, Y_Pred)\n",
        "\n",
        "plt.figure(figsize=(8, 6))\n",
        "ax = sns.heatmap(Conf_Mat_Log_Reg, annot=True, fmt='d', cmap='Blues')\n",
        "ax.set_title(\"Confusion Matrix - Logistic Regression after SMOTE Oversampling\\n\\n\");\n",
        "ax.set_xlabel(\"\\nPredicted\")\n",
        "ax.set_ylabel(\"Actual\");\n",
        "\n",
        "ax.xaxis.set_ticklabels([\"Existing\",\"Attrited\"])\n",
        "ax.yaxis.set_ticklabels([\"Existing\",\"Attrited\"])\n",
        "\n",
        "## Display the visualization of the Confusion Matrix.\n",
        "plt.show()"
      ],
      "metadata": {
        "colab": {
          "base_uri": "https://localhost:8080/",
          "height": 446
        },
        "id": "lfHvZCIj3tnc",
        "outputId": "15b4e12c-78f0-4a5a-a490-cd649c61fc6a"
      },
      "execution_count": 21,
      "outputs": [
        {
          "output_type": "display_data",
          "data": {
            "text/plain": [
              "<Figure size 576x432 with 2 Axes>"
            ],
            "image/png": "[encoded data removed]"
          },
          "metadata": {
            "needs_background": "light"
          }
        }
      ]
    },
    {
      "cell_type": "markdown",
      "source": [
        "### Logistic Regression after SMOTE - Evaluation Metrics"
      ],
      "metadata": {
        "id": "YnIGgMhbs3JM"
      }
    },
    {
      "cell_type": "code",
      "source": [
        "def print_scores(y_test, y_pred):\n",
        "  #Function to print the evaluation metrics\n",
        "    print(\"The Accuracy is:\", round(metrics.accuracy_score(y_test, y_pred),2))    #Accuracy Score: TP + TN / TP + TN + FP + FN\n",
        "    print(\"The Recall Score is:\", round(metrics.recall_score(y_test, y_pred),2))    #Recall Score:  TP/ TP + FN    \n",
        "    print(\"The Precision Score is:\", round(metrics.precision_score(y_test, y_pred),2))    #Precision Score:  TP/ TP + FP\n",
        "    print(\"The F1 Score is:\", round(metrics.f1_score(y_test, y_pred),2)) #F1 Score/ A combination of Recall Score and Precision Score\n",
        "print_scores(y_test_smote, Y_Pred)"
      ],
      "metadata": {
        "colab": {
          "base_uri": "https://localhost:8080/"
        },
        "id": "ebT-bZW8tCRn",
        "outputId": "20baf44e-6d0b-40ec-f367-cc1c62a545cf"
      },
      "execution_count": 22,
      "outputs": [
        {
          "output_type": "stream",
          "name": "stdout",
          "text": [
            "The Accuracy is: 0.88\n",
            "The Recall Score is: 0.55\n",
            "The Precision Score is: 0.68\n",
            "The F1 Score is: 0.61\n"
          ]
        }
      ]
    },
    {
      "cell_type": "markdown",
      "source": [
        "### Logistic Regression with 10-fold Cross-Validation - after SMOTE on training data\n",
        "The correct application of oversampling during k-fold cross-validation is to apply the method to the training dataset only, then evaluate the model on the stratified but non-transformed test set.\n",
        "This can be achieved by defining a Pipeline that first transforms the training dataset with SMOTE then fits the model."
      ],
      "metadata": {
        "id": "-f_oHgBEge7q"
      }
    },
    {
      "cell_type": "markdown",
      "source": [
        "The average scores of Recall, Accuracy, Precision, F1 and ROC will be used to evaluate the different ML models"
      ],
      "metadata": {
        "id": "-SKoGagS0avy"
      }
    },
    {
      "cell_type": "code",
      "source": [
        "#Logistic Regression model using 10-fold Cross-Validation, \n",
        "#evaluated on imbalanced dataset with SMOTE oversampling\n",
        "\n",
        "# defining pipeline\n",
        "steps = [('over', SMOTE(k_neighbors = 5, random_state = 11)), ('model', LogisticRegression())]\n",
        "pipeline = Pipeline(steps=steps)\n",
        "\n",
        "# evaluating pipeline\n",
        "cv = KFold(n_splits=10, random_state=1, shuffle=True)\n",
        "\n",
        "accuracy_scores_LogReg_Smote = cross_val_score(pipeline, X, y, scoring='accuracy', cv=cv, n_jobs=-1)\n",
        "recall_scores_LogReg_Smote = cross_val_score(pipeline, X, y, scoring='recall', cv=cv, n_jobs=-1)\n",
        "precision_scores_LogReg_Smote = cross_val_score(pipeline, X, y, scoring='precision', cv=cv, n_jobs=-1)\n",
        "f1_scores_LogReg_Smote = cross_val_score(pipeline, X, y, scoring='f1', cv=cv, n_jobs=-1)\n",
        "roc_auc_scores_LogReg_Smote = cross_val_score(pipeline, X, y, scoring='roc_auc', cv=cv, n_jobs=-1)\n",
        "\n",
        "# reporting performance\n",
        "print('Logistic Regression after SMOTE - Average Recall: %.2f ' % (mean(recall_scores_LogReg_Smote)))\n",
        "print('Logistic Regression after SMOTE - Average Accuracy: %.2f ' % (mean(accuracy_scores_LogReg_Smote)))\n",
        "print('Logistic Regression after SMOTE - Average Precision: %.2f ' % (mean(precision_scores_LogReg_Smote)))\n",
        "print('Logistic Regression after SMOTE - Average F1: %.2f ' % (mean(f1_scores_LogReg_Smote)))\n",
        "print('Logistic Regression after SMOTE - Average ROC AUC: %.2f ' % (mean(roc_auc_scores_LogReg_Smote)))"
      ],
      "metadata": {
        "colab": {
          "base_uri": "https://localhost:8080/"
        },
        "id": "Bnc1q447Wv60",
        "outputId": "36dfa826-4c67-45db-9330-18576d4ec737"
      },
      "execution_count": 24,
      "outputs": [
        {
          "output_type": "stream",
          "name": "stdout",
          "text": [
            "Logistic Regression after SMOTE - Average Recall: 0.78 \n",
            "Logistic Regression after SMOTE - Average Accuracy: 0.81 \n",
            "Logistic Regression after SMOTE - Average Precision: 0.45 \n",
            "Logistic Regression after SMOTE - Average F1: 0.57 \n",
            "Logistic Regression after SMOTE - Average ROC AUC: 0.88 \n"
          ]
        }
      ]
    },
    {
      "cell_type": "markdown",
      "source": [
        "Recall has improved considerably from 42% to 78% after oversampling with SMOTE"
      ],
      "metadata": {
        "id": "WbLNoELw1PB-"
      }
    }
  ]
}